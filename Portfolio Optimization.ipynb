{
 "cells": [
  {
   "cell_type": "code",
   "execution_count": 19,
   "id": "fd503499",
   "metadata": {},
   "outputs": [],
   "source": [
    "import yfinance as yf\n",
    "import pandas as pd\n",
    "from datetime import datetime, timedelta\n",
    "import numpy as np\n",
    "from scipy.optimize import minimize\n",
    "\n",
    "\n"
   ]
  },
  {
   "cell_type": "code",
   "execution_count": 6,
   "id": "21532d0d",
   "metadata": {},
   "outputs": [
    {
     "name": "stdout",
     "output_type": "stream",
     "text": [
      "Collecting peewee"
     ]
    },
    {
     "name": "stderr",
     "output_type": "stream",
     "text": [
      "ERROR: pip's dependency resolver does not currently take into account all the packages that are installed. This behaviour is the source of the following dependency conflicts.\n",
      "yfinance 0.2.40 requires frozendict>=2.3.4, which is not installed.\n",
      "yfinance 0.2.40 requires html5lib>=1.1, which is not installed.\n",
      "yfinance 0.2.40 requires multitasking>=0.0.7, which is not installed.\n"
     ]
    },
    {
     "name": "stdout",
     "output_type": "stream",
     "text": [
      "\n",
      "  Downloading peewee-3.17.5.tar.gz (3.0 MB)\n",
      "     ---------------------------------------- 0.0/3.0 MB ? eta -:--:--\n",
      "     - -------------------------------------- 0.1/3.0 MB 4.5 MB/s eta 0:00:01\n",
      "     -- ------------------------------------- 0.2/3.0 MB 3.1 MB/s eta 0:00:01\n",
      "     ---- ----------------------------------- 0.3/3.0 MB 3.4 MB/s eta 0:00:01\n",
      "     ------- -------------------------------- 0.6/3.0 MB 4.1 MB/s eta 0:00:01\n",
      "     -------------- ------------------------- 1.0/3.0 MB 4.7 MB/s eta 0:00:01\n",
      "     ----------------- ---------------------- 1.3/3.0 MB 5.1 MB/s eta 0:00:01\n",
      "     --------------------- ------------------ 1.6/3.0 MB 5.0 MB/s eta 0:00:01\n",
      "     ---------------------- ----------------- 1.6/3.0 MB 5.2 MB/s eta 0:00:01\n",
      "     ------------------------------ --------- 2.2/3.0 MB 5.5 MB/s eta 0:00:01\n",
      "     ----------------------------------- ---- 2.6/3.0 MB 5.8 MB/s eta 0:00:01\n",
      "     ---------------------------------------  2.9/3.0 MB 5.9 MB/s eta 0:00:01\n",
      "     ---------------------------------------- 3.0/3.0 MB 5.5 MB/s eta 0:00:00\n",
      "  Installing build dependencies: started\n",
      "  Installing build dependencies: finished with status 'done'\n",
      "  Getting requirements to build wheel: started\n",
      "  Getting requirements to build wheel: finished with status 'done'\n",
      "  Preparing metadata (pyproject.toml): started\n",
      "  Preparing metadata (pyproject.toml): finished with status 'done'\n",
      "Building wheels for collected packages: peewee\n",
      "  Building wheel for peewee (pyproject.toml): started\n",
      "  Building wheel for peewee (pyproject.toml): finished with status 'done'\n",
      "  Created wheel for peewee: filename=peewee-3.17.5-py3-none-any.whl size=138681 sha256=af0d545d34cff59f4554cdb1cadd5ac5027249b84a413b2b3d48020611ca172e\n",
      "  Stored in directory: c:\\users\\mohammad saize ali\\appdata\\local\\pip\\cache\\wheels\\d2\\cb\\9c\\c300d7bf782e07f1658c306743d5e30af7e4834001e4064a96\n",
      "Successfully built peewee\n",
      "Installing collected packages: peewee\n",
      "Successfully installed peewee-3.17.5\n"
     ]
    }
   ],
   "source": [
    "!pip install peewee\n"
   ]
  },
  {
   "cell_type": "code",
   "execution_count": 8,
   "id": "f61fc991",
   "metadata": {},
   "outputs": [
    {
     "name": "stdout",
     "output_type": "stream",
     "text": [
      "Collecting frozendict\n",
      "  Downloading frozendict-2.4.4-py311-none-any.whl.metadata (23 kB)\n",
      "Downloading frozendict-2.4.4-py311-none-any.whl (16 kB)\n",
      "Installing collected packages: frozendict\n",
      "Successfully installed frozendict-2.4.4\n"
     ]
    },
    {
     "name": "stderr",
     "output_type": "stream",
     "text": [
      "ERROR: pip's dependency resolver does not currently take into account all the packages that are installed. This behaviour is the source of the following dependency conflicts.\n",
      "yfinance 0.2.40 requires html5lib>=1.1, which is not installed.\n",
      "yfinance 0.2.40 requires multitasking>=0.0.7, which is not installed.\n"
     ]
    }
   ],
   "source": [
    "!pip install frozendict\n"
   ]
  },
  {
   "cell_type": "code",
   "execution_count": 10,
   "id": "96ed34b1",
   "metadata": {},
   "outputs": [
    {
     "name": "stdout",
     "output_type": "stream",
     "text": [
      "Collecting multitasking\n",
      "  Downloading multitasking-0.0.11-py3-none-any.whl.metadata (5.5 kB)\n",
      "Downloading multitasking-0.0.11-py3-none-any.whl (8.5 kB)\n",
      "Installing collected packages: multitasking\n",
      "Successfully installed multitasking-0.0.11\n"
     ]
    },
    {
     "name": "stderr",
     "output_type": "stream",
     "text": [
      "ERROR: pip's dependency resolver does not currently take into account all the packages that are installed. This behaviour is the source of the following dependency conflicts.\n",
      "yfinance 0.2.40 requires html5lib>=1.1, which is not installed.\n"
     ]
    }
   ],
   "source": [
    "!pip install multitasking\n"
   ]
  },
  {
   "cell_type": "code",
   "execution_count": 13,
   "id": "58bb235b",
   "metadata": {},
   "outputs": [],
   "source": [
    "#Define Tickers and Time range\n",
    "#First, we define a list of tickers for the assets we want to include in the portfolio. In this example, we use five ETFs representing various asset classes: SPY, BND, GLD, QQQ, and VTI.\n",
    "tickers = ['SPY','BND','GLD','QQQ','VTI']\n"
   ]
  },
  {
   "cell_type": "code",
   "execution_count": 14,
   "id": "2b3c3b9c",
   "metadata": {},
   "outputs": [],
   "source": [
    "#We then set the start and end dates for our analysis. \n",
    "#set the end date to today\n",
    "end_date = datetime.today()\n"
   ]
  },
  {
   "cell_type": "code",
   "execution_count": 50,
   "id": "14d2c656",
   "metadata": {},
   "outputs": [],
   "source": [
    "#We use a five-year historical time range for our calculations\n",
    "#set the start date to 5 years ago\n",
    "start_date = end_date - timedelta(days = 5*365)"
   ]
  },
  {
   "cell_type": "code",
   "execution_count": 16,
   "id": "934f7ea0",
   "metadata": {},
   "outputs": [
    {
     "name": "stdout",
     "output_type": "stream",
     "text": [
      "2019-07-07 00:33:04.798277\n"
     ]
    }
   ],
   "source": [
    "print(start_date)"
   ]
  },
  {
   "cell_type": "code",
   "execution_count": 17,
   "id": "3d5b3401",
   "metadata": {},
   "outputs": [],
   "source": [
    "#Download Adjusted close Prices\n",
    "#Create an empty dataframe to store the adjusted close prices of each asset.\n",
    "adj_close_df = pd.DataFrame()"
   ]
  },
  {
   "cell_type": "code",
   "execution_count": 20,
   "id": "b64c8de2",
   "metadata": {},
   "outputs": [
    {
     "name": "stderr",
     "output_type": "stream",
     "text": [
      "[*********************100%%**********************]  1 of 1 completed\n",
      "[*********************100%%**********************]  1 of 1 completed\n",
      "[*********************100%%**********************]  1 of 1 completed\n",
      "[*********************100%%**********************]  1 of 1 completed\n",
      "[*********************100%%**********************]  1 of 1 completed\n"
     ]
    }
   ],
   "source": [
    "#We use the yfinance library to download the data from Yahoo Finance.\n",
    "for ticker in tickers:\n",
    "    data = yf.download(ticker, start = start_date,end = end_date)\n",
    "    adj_close_df[ticker] = data['Adj Close']"
   ]
  },
  {
   "cell_type": "code",
   "execution_count": 21,
   "id": "8300db8b",
   "metadata": {},
   "outputs": [
    {
     "name": "stdout",
     "output_type": "stream",
     "text": [
      "                   SPY        BND         GLD         QQQ         VTI\n",
      "Date                                                                 \n",
      "2019-07-08  274.340302  72.524582  131.289993  183.771912  140.106583\n",
      "2019-07-09  274.682190  72.428207  131.750000  184.692184  140.355911\n",
      "2019-07-10  275.994690  72.489563  133.830002  186.532730  140.928421\n",
      "2019-07-11  276.641632  72.252991  132.699997  186.397079  141.122269\n",
      "2019-07-12  277.880157  72.314316  133.529999  187.472351  141.842575\n",
      "...                ...        ...         ...         ...         ...\n",
      "2024-06-27  546.369995  72.167953  214.990005  481.609985  268.428009\n",
      "2024-06-28  544.219971  71.829002  215.009995  479.109985  267.510010\n",
      "2024-07-01  545.340027  71.449997  215.570007  481.920013  268.049988\n",
      "2024-07-02  549.010010  71.660004  215.559998  486.980011  269.600006\n",
      "2024-07-03  551.460022  72.070000  217.990005  491.040009  270.709991\n",
      "\n",
      "[1257 rows x 5 columns]\n"
     ]
    }
   ],
   "source": [
    "#Display the dataframe\n",
    "print(adj_close_df)"
   ]
  },
  {
   "cell_type": "code",
   "execution_count": 22,
   "id": "e9147a8f",
   "metadata": {},
   "outputs": [],
   "source": [
    "#calculate the lognormal returns for each asset \n",
    "log_returns=np.log(adj_close_df.shift(1))"
   ]
  },
  {
   "cell_type": "code",
   "execution_count": 24,
   "id": "1be289e2",
   "metadata": {},
   "outputs": [],
   "source": [
    "#Drop any missing values\n",
    "log_returns=log_returns.dropna()"
   ]
  },
  {
   "cell_type": "code",
   "execution_count": 26,
   "id": "8f6107d5",
   "metadata": {},
   "outputs": [
    {
     "name": "stdout",
     "output_type": "stream",
     "text": [
      "           SPY       BND       GLD        QQQ        VTI\n",
      "SPY   9.398985 -0.910046  3.817929  11.844065   9.155423\n",
      "BND  -0.910046  0.805566 -0.239967  -0.603653  -0.727507\n",
      "GLD   3.817929 -0.239967  2.690448   5.358069   3.643278\n",
      "QQQ  11.844065 -0.603653  5.358069  15.930767  11.617677\n",
      "VTI   9.155423 -0.727507  3.643278  11.617677   8.982538\n"
     ]
    }
   ],
   "source": [
    "#compute the covariance matrix using the annualized log returns.\n",
    "cov_matrix = log_returns.cov() * 252\n",
    "print(cov_matrix)\n"
   ]
  },
  {
   "cell_type": "code",
   "execution_count": 27,
   "id": "7876061f",
   "metadata": {},
   "outputs": [],
   "source": [
    "#Define Portfolio Performance Metrics\n",
    "#calculate the portfolio standard deviation,\n",
    "def standard_deviation(weights, cov_matrix):\n",
    "    variance = weights.T @ cov_matrix @ weights\n",
    "    return np.sqrt(variance)"
   ]
  },
  {
   "cell_type": "code",
   "execution_count": 28,
   "id": "296a2929",
   "metadata": {},
   "outputs": [],
   "source": [
    "#calculate expected return\n",
    "def expected_return(weights, log_returns):\n",
    "    return np.sum(log_returns.mean()*weights)*252"
   ]
  },
  {
   "cell_type": "code",
   "execution_count": 30,
   "id": "e86789d9",
   "metadata": {},
   "outputs": [],
   "source": [
    "#calculate sharpe ratio\n",
    "def sharpe_ratio(weights, log_returns, cov_matrix, risk_free_rate):\n",
    "    return (expected_return(weights, log_returns) - risk_free_rate) / standard_deviation(weights, cov_matrix)"
   ]
  },
  {
   "cell_type": "code",
   "execution_count": 40,
   "id": "d99dd91e",
   "metadata": {},
   "outputs": [],
   "source": [
    "#Portfolio Optimization\n",
    "#We set the risk-free rate \n",
    "risk_free_rate = .02\n",
    "#define a function to minimize the negative Sharpe ratio\n",
    "def neg_sharpe_ratio(weights, log_returns, cov_matrix, risk_free_rate):\n",
    "    return -sharpe_ratio(weights, log_returns, cov_matrix, risk_free_rate)\n"
   ]
  },
  {
   "cell_type": "code",
   "execution_count": 34,
   "id": "72499a37",
   "metadata": {},
   "outputs": [],
   "source": [
    "#set constraints and bounds for the optimization process.\n",
    "\n",
    "constraints = {'type': 'eq', 'fun': lambda weights: np.sum(weights) - 1}\n",
    "bounds = [(0, 0.4) for _ in range(len(tickers))]"
   ]
  },
  {
   "cell_type": "code",
   "execution_count": 35,
   "id": "a0536aca",
   "metadata": {},
   "outputs": [
    {
     "name": "stdout",
     "output_type": "stream",
     "text": [
      "[0.2 0.2 0.2 0.2 0.2]\n"
     ]
    }
   ],
   "source": [
    "#set the initial weights \n",
    "initial_weights = np.array([1/len(tickers)]*len(tickers))\n",
    "print(initial_weights)"
   ]
  },
  {
   "cell_type": "code",
   "execution_count": 41,
   "id": "0348bc5a",
   "metadata": {},
   "outputs": [],
   "source": [
    "#optimize weights to maximize sharpe ratio\n",
    "optimized_results = minimize(neg_sharpe_ratio, initial_weights, args=(log_returns, cov_matrix, risk_free_rate), method='SLSQP', constraints=constraints, bounds=bounds)"
   ]
  },
  {
   "cell_type": "code",
   "execution_count": 44,
   "id": "099007b6",
   "metadata": {},
   "outputs": [
    {
     "name": "stdout",
     "output_type": "stream",
     "text": [
      "Optimal Weights: [0.19999999 0.4        0.4        0.         0.        ]\n"
     ]
    }
   ],
   "source": [
    "# Print the optimized weights\n",
    "optimal_weights = optimized_results.x\n",
    "\n",
    "print(\"Optimal Weights:\",optimal_weights)"
   ]
  },
  {
   "cell_type": "code",
   "execution_count": 46,
   "id": "a220a246",
   "metadata": {},
   "outputs": [
    {
     "name": "stdout",
     "output_type": "stream",
     "text": [
      "SPY: 0.2000\n",
      "BND: 0.4000\n",
      "GLD: 0.4000\n",
      "QQQ: 0.0000\n",
      "VTI: 0.0000\n",
      "Expected Annual Return: 1250.7417\n",
      "Expected Volatility: 1.1506\n",
      "Sharpe Ratio: 1087.0526\n"
     ]
    }
   ],
   "source": [
    "#Display analytics of optimal portfolio\n",
    "for ticker, weight in zip(tickers, optimal_weights):\n",
    "    print(f\"{ticker}: {weight:.4f}\")\n",
    "\n",
    "optimal_portfolio_return = expected_return(optimal_weights, log_returns)\n",
    "optimal_portfolio_volatility = standard_deviation(optimal_weights, cov_matrix)\n",
    "optimal_sharpe_ratio = sharpe_ratio(optimal_weights, log_returns, cov_matrix, risk_free_rate)\n",
    "\n",
    "print(f\"Expected Annual Return: {optimal_portfolio_return:.4f}\")\n",
    "print(f\"Expected Volatility: {optimal_portfolio_volatility:.4f}\")\n",
    "print(f\"Sharpe Ratio: {optimal_sharpe_ratio:.4f}\")"
   ]
  },
  {
   "cell_type": "code",
   "execution_count": 49,
   "id": "aeac8bc6",
   "metadata": {},
   "outputs": [
    {
     "data": {
      "image/png": "[encoded data removed]",
      "text/plain": [
       "<Figure size 1000x600 with 1 Axes>"
      ]
     },
     "metadata": {},
     "output_type": "display_data"
    }
   ],
   "source": [
    "#Display the Final Portfolio in a Plot\n",
    "#create a bar chart to visualize the optimal weights of the assets in the portfolio.\n",
    "import matplotlib.pyplot as plt\n",
    "\n",
    "plt.figure(figsize=(10, 6))\n",
    "plt.bar(tickers, optimal_weights)\n",
    "\n",
    "plt.xlabel('Assets')\n",
    "plt.ylabel('Optimal Weights')\n",
    "plt.title('Optimal Portfolio Weights')\n",
    "\n",
    "plt.show()"
   ]
  },
  {
   "cell_type": "code",
   "execution_count": null,
   "id": "029c9b63",
   "metadata": {},
   "outputs": [],
   "source": []
  }
 ],
 "metadata": {
  "kernelspec": {
   "display_name": "Python 3 (ipykernel)",
   "language": "python",
   "name": "python3"
  },
  "language_info": {
   "codemirror_mode": {
    "name": "ipython",
    "version": 3
   },
   "file_extension": ".py",
   "mimetype": "text/x-python",
   "name": "python",
   "nbconvert_exporter": "python",
   "pygments_lexer": "ipython3",
   "version": "3.11.4"
  }
 },
 "nbformat": 4,
 "nbformat_minor": 5
}
